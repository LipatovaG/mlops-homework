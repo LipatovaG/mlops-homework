{
 "cells": [
  {
   "cell_type": "markdown",
   "metadata": {},
   "source": [
    "# Animation Demo\n",
    "\n",
    "Создание анимаций действий через Pose API\n",
    "\n",
    "Запустить: `make start-all && make pull`\n"
   ]
  },
  {
   "cell_type": "code",
   "execution_count": null,
   "metadata": {},
   "outputs": [],
   "source": [
    "import requests\n",
    "import base64\n",
    "import io\n",
    "from PIL import Image\n",
    "from IPython.display import Image as IPImage, display\n"
   ]
  },
  {
   "cell_type": "markdown",
   "metadata": {},
   "source": [
    "## Create Animation\n"
   ]
  },
  {
   "cell_type": "code",
   "execution_count": null,
   "metadata": {},
   "outputs": [],
   "source": [
    "def create_animation(poses, duration=500):\n",
    "    \"\"\"Создать GIF анимацию из последовательности поз\"\"\"\n",
    "    frames = []\n",
    "    \n",
    "    for i, pose in enumerate(poses):\n",
    "        response = requests.post(\n",
    "            \"http://localhost:8001/visualize\",\n",
    "            json={\"pose\": pose},\n",
    "            timeout=5\n",
    "        )\n",
    "        result = response.json()\n",
    "        \n",
    "        if result.get('success') and result.get('image'):\n",
    "            img_data = base64.b64decode(result['image'])\n",
    "            img = Image.open(io.BytesIO(img_data))\n",
    "            frames.append(img)\n",
    "            print(f\"✓ Frame {i+1}/{len(poses)}\")\n",
    "    \n",
    "    if frames:\n",
    "        gif_buffer = io.BytesIO()\n",
    "        frames[0].save(\n",
    "            gif_buffer,\n",
    "            format='GIF',\n",
    "            save_all=True,\n",
    "            append_images=frames[1:],\n",
    "            duration=duration,\n",
    "            loop=0\n",
    "        )\n",
    "        gif_buffer.seek(0)\n",
    "        return gif_buffer.read()\n",
    "    return None\n"
   ]
  },
  {
   "cell_type": "markdown",
   "metadata": {},
   "source": [
    "### Wave Animation\n"
   ]
  },
  {
   "cell_type": "code",
   "execution_count": null,
   "metadata": {},
   "outputs": [],
   "source": [
    "wave_poses = [\n",
    "    {\"Torso\":[0,0],\"Head\":[0,60],\"RH\":[20,40],\"LH\":[-40,30],\"RK\":[15,-50],\"LK\":[-15,-50]},\n",
    "    {\"Torso\":[0,0],\"Head\":[0,60],\"RH\":[30,70],\"LH\":[-40,30],\"RK\":[15,-50],\"LK\":[-15,-50]},\n",
    "    {\"Torso\":[0,0],\"Head\":[0,60],\"RH\":[40,50],\"LH\":[-40,30],\"RK\":[15,-50],\"LK\":[-15,-50]},\n",
    "    {\"Torso\":[0,0],\"Head\":[0,60],\"RH\":[30,70],\"LH\":[-40,30],\"RK\":[15,-50],\"LK\":[-15,-50]},\n",
    "]\n",
    "\n",
    "gif_data = create_animation(wave_poses)\n",
    "if gif_data:\n",
    "    display(IPImage(gif_data))\n"
   ]
  },
  {
   "cell_type": "markdown",
   "metadata": {},
   "source": [
    "### Jump Animation\n"
   ]
  },
  {
   "cell_type": "code",
   "execution_count": null,
   "metadata": {},
   "outputs": [],
   "source": [
    "jump_poses = [\n",
    "    {\"Torso\":[0,0],\"Head\":[0,60],\"RH\":[25,35],\"LH\":[-25,35],\"RK\":[15,-50],\"LK\":[-15,-50]},\n",
    "    {\"Torso\":[0,10],\"Head\":[0,70],\"RH\":[30,55],\"LH\":[-30,55],\"RK\":[10,-30],\"LK\":[-10,-30]},\n",
    "    {\"Torso\":[0,0],\"Head\":[0,60],\"RH\":[25,35],\"LH\":[-25,35],\"RK\":[15,-50],\"LK\":[-15,-50]},\n",
    "]\n",
    "\n",
    "gif_data = create_animation(jump_poses)\n",
    "if gif_data:\n",
    "    display(IPImage(gif_data))\n"
   ]
  },
  {
   "cell_type": "markdown",
   "metadata": {},
   "source": [
    "### Dance Animation\n"
   ]
  },
  {
   "cell_type": "code",
   "execution_count": null,
   "metadata": {},
   "outputs": [],
   "source": [
    "dance_poses = [\n",
    "    {\"Torso\":[0,0],\"Head\":[0,60],\"RH\":[50,35],\"LH\":[-50,35],\"RK\":[15,-50],\"LK\":[-15,-50]},\n",
    "    {\"Torso\":[5,0],\"Head\":[5,60],\"RH\":[55,50],\"LH\":[-45,20],\"RK\":[20,-50],\"LK\":[-10,-50]},\n",
    "    {\"Torso\":[-5,0],\"Head\":[-5,60],\"RH\":[45,20],\"LH\":[-55,50],\"RK\":[10,-50],\"LK\":[-20,-50]},\n",
    "    {\"Torso\":[0,0],\"Head\":[0,60],\"RH\":[50,35],\"LH\":[-50,35],\"RK\":[15,-50],\"LK\":[-15,-50]},\n",
    "]\n",
    "\n",
    "gif_data = create_animation(dance_poses)\n",
    "if gif_data:\n",
    "    display(IPImage(gif_data))\n"
   ]
  }
 ],
 "metadata": {
  "language_info": {
   "name": "python"
  }
 },
 "nbformat": 4,
 "nbformat_minor": 5
}
